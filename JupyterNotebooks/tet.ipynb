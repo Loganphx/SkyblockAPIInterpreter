{
 "cells": [
  {
   "cell_type": "code",
   "execution_count": 13,
   "metadata": {
    "collapsed": true
   },
   "outputs": [],
   "source": [
    "import base64\n",
    "import json\n",
    "import requests\n",
    "import time\n",
    "import csv\n",
    "import nbt\n",
    "import io\n",
    "\n",
    "from item_byte_decoder import decode_item_bytes, get_count\n",
    "\n",
    "\n",
    "def get_auction_bins() -> json:\n",
    "    start_time = time.time()\n",
    "    x = requests.get('https://api.hypixel.net/skyblock/auctions?key=41b2a888-f84c-4287-bf56-2012895c8e4d')\n",
    "    parsed = json.dumps(x.json())\n",
    "    json_loaded = json.loads(parsed)\n",
    "    total_Pages = json_loaded['totalPages']\n",
    "    page = 0\n",
    "    auction_items = []\n",
    "    while(page < total_Pages):\n",
    "        x = requests.get('https://api.hypixel.net/skyblock/auctions?key=41b2a888-f84c-4287-bf56-2012895c8e4d&page=' + str(page))\n",
    "        parsed = json.dumps(x.json())\n",
    "        json_loaded = json.loads(parsed)\n",
    "        for listing in json_loaded['auctions']:\n",
    "            if('bin' in listing.keys()):\n",
    "                if(listing['bin'] == True):\n",
    "                    auction_items.append(listing)\n",
    "        page=page+1\n",
    "\n",
    "    end_time = time.time()\n",
    "    print(end_time - start_time)\n",
    "    return(auction_items)\n",
    "\n",
    "\n",
    "def get_username(uuid):\n",
    "    x = requests.get('https://playerdb.co/api/player/minecraft/' + str(uuid))\n",
    "    parsed = json.dumps(x.json())\n",
    "    json_loaded = json.loads(parsed)\n",
    "    return json_loaded"
   ]
  },
  {
   "cell_type": "code",
   "execution_count": 11,
   "outputs": [],
   "source": [
    "def parse_auction_listings(auction_data):\n",
    "    final_array = []\n",
    "    for item in auction_data:\n",
    "        passing_array = []\n",
    "        passing_array.append(item['item_name'])\n",
    "        passing_array.append(item['tier'])\n",
    "        passing_array.append(item['category'])\n",
    "        #userid = item['auctioneer']\n",
    "        #x = requests.get('https://playerdb.co/api/player/minecraft/' + userid)\n",
    "        #parsed = json.dumps(x.json())\n",
    "        #json_loaded = json.loads(parsed)\n",
    "        #passing_array.append(json_loaded['data']['player']['username'])\n",
    "        passing_array.append(item['starting_bid'])\n",
    "        data = nbt.nbt.NBTFile(fileobj = io.BytesIO(base64.b64decode(item['item_bytes'])))\n",
    "        count = data['i'][0]['Count']\n",
    "        passing_array.append(count)\n",
    "        passing_array.append(item['auctioneer'])\n",
    "        passing_array.append(item['start'])\n",
    "        passing_array.append(item['end'])\n",
    "        passing_array.append(item['bin'])\n",
    "        passing_array.append(item['uuid'])\n",
    "        passing_array.append(item['item_bytes'])\n",
    "        passing_array.append('\\n')\n",
    "        final_array.append(passing_array)\n",
    "    print('Done')\n",
    "    return final_array"
   ],
   "metadata": {
    "collapsed": false,
    "pycharm": {
     "name": "#%%\n"
    }
   }
  },
  {
   "cell_type": "code",
   "execution_count": 9,
   "outputs": [],
   "source": [
    "def write_auctions_file(auctions_array):\n",
    "    start_time = time.time()\n",
    "    with open('.csv', 'w', newline='\\n', encoding='utf-8') as foo:\n",
    "        writer = csv.writer(foo)\n",
    "        writer.writerows(auctions_array)\n",
    "    end_time = time.time()\n",
    "    print(end_time - start_time)"
   ],
   "metadata": {
    "collapsed": false,
    "pycharm": {
     "name": "#%%\n"
    }
   }
  },
  {
   "cell_type": "code",
   "execution_count": 4,
   "outputs": [
    {
     "name": "stdout",
     "output_type": "stream",
     "text": [
      "27.67155957221985\n"
     ]
    }
   ],
   "source": [
    "auction_data = get_auction_bins()"
   ],
   "metadata": {
    "collapsed": false,
    "pycharm": {
     "name": "#%%\n"
    }
   }
  },
  {
   "cell_type": "code",
   "execution_count": 12,
   "outputs": [
    {
     "name": "stdout",
     "output_type": "stream",
     "text": [
      "Done\n"
     ]
    }
   ],
   "source": [
    "auctions_array = parse_auction_listings(auction_data)"
   ],
   "metadata": {
    "collapsed": false,
    "pycharm": {
     "name": "#%%\n"
    }
   }
  },
  {
   "cell_type": "code",
   "execution_count": 14,
   "outputs": [
    {
     "name": "stdout",
     "output_type": "stream",
     "text": [
      "0.6555948257446289\n"
     ]
    }
   ],
   "source": [
    "write_auctions_file(auctions_array)"
   ],
   "metadata": {
    "collapsed": false,
    "pycharm": {
     "name": "#%%\n"
    }
   }
  },
  {
   "cell_type": "code",
   "execution_count": 96,
   "outputs": [
    {
     "name": "stdout",
     "output_type": "stream",
     "text": [
      "MrInsanityy\n"
     ]
    }
   ],
   "source": [],
   "metadata": {
    "collapsed": false,
    "pycharm": {
     "name": "#%%\n"
    }
   }
  }
 ],
 "metadata": {
  "kernelspec": {
   "display_name": "Python 3",
   "language": "python",
   "name": "python3"
  },
  "language_info": {
   "codemirror_mode": {
    "name": "ipython",
    "version": 2
   },
   "file_extension": ".py",
   "mimetype": "text/x-python",
   "name": "python",
   "nbconvert_exporter": "python",
   "pygments_lexer": "ipython2",
   "version": "2.7.6"
  }
 },
 "nbformat": 4,
 "nbformat_minor": 0
}