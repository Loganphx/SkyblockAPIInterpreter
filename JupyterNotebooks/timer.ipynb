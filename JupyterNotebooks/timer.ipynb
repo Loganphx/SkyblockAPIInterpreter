{
 "cells": [
  {
   "cell_type": "code",
   "execution_count": 170,
   "metadata": {
    "collapsed": true
   },
   "outputs": [
    {
     "name": "stdout",
     "output_type": "stream",
     "text": [
      "2020-07-22 20:15:03.499845\n",
      "{'Travelling Zoo Summer': datetime.datetime(2020, 7, 24, 21, 55), 'Spooky Festival': datetime.datetime(2020, 7, 21, 20, 35), 'Travelling Zoo Winter': datetime.datetime(2020, 7, 22, 7, 55), 'Winter Island': datetime.datetime(2020, 7, 23, 4, 35), 'Season of Jerry': datetime.datetime(2020, 7, 23, 4, 35), 'New Year Celebration': datetime.datetime(2020, 7, 23, 13, 55), 'Old Event': datetime.datetime(2020, 7, 20, 12, 55)}\n"
     ]
    }
   ],
   "source": [
    "import math\n",
    "from datetime import datetime, timedelta\n",
    "\n",
    "# date in yyyy/mm/dd format\n",
    "hourToSeconds=3600\n",
    "minutesToSeconds=60\n",
    "TravellingZooSummer = '2020-07-24 21:55:00.00000'\n",
    "SpookyFestival = '2020-07-21 20:35:00.00000'\n",
    "TravellingZooWinter = '2020-07-22 07:55:00.00000'\n",
    "WinterIsland = '2020-07-23 04:35:00.00000'\n",
    "SeasonOfJerry = '2020-07-23 12:15:00.00000'\n",
    "NewYearCelebration = '2020-07-23 13:55:00.00000'\n",
    "OldEvent = '2020-07-20 12:55:00.00000'\n",
    "currentTime = datetime.now()\n",
    "TZS_Datetime = datetime.strptime(TravellingZooSummer, '%Y-%m-%d %H:%M:%S.%f')\n",
    "SF_Datetime = datetime.strptime(SpookyFestival, '%Y-%m-%d %H:%M:%S.%f')\n",
    "TZW_Datetime = datetime.strptime(TravellingZooWinter, '%Y-%m-%d %H:%M:%S.%f')\n",
    "WI_Datetime = datetime.strptime(WinterIsland, '%Y-%m-%d %H:%M:%S.%f')\n",
    "SOJ_Datetime = datetime.strptime(WinterIsland, '%Y-%m-%d %H:%M:%S.%f')\n",
    "NYC_Datetime = datetime.strptime(NewYearCelebration, '%Y-%m-%d %H:%M:%S.%f')\n",
    "Old_Datetime = datetime.strptime(OldEvent, '%Y-%m-%d %H:%M:%S.%f')\n",
    "print(currentTime)\n",
    "events = {'Travelling Zoo Summer': TZS_Datetime,'Spooky Festival' : SF_Datetime,'Travelling Zoo Winter' : TZW_Datetime,'Winter Island' : WI_Datetime,'Season of Jerry' : SOJ_Datetime,'New Year Celebration' : NYC_Datetime, 'Old Event' : Old_Datetime}\n",
    "print(events)"
   ]
  },
  {
   "cell_type": "code",
   "execution_count": 172,
   "outputs": [
    {
     "name": "stdout",
     "output_type": "stream",
     "text": [
      "\n",
      "Travelling Zoo Summer is in 2 days, 1.0 hours, 39 minutes\n",
      "\n",
      "Spooky Festival is in 4 days, 4.0 hours, 19 minutes\n",
      "\n",
      "Travelling Zoo Winter is in 4 days, 15.0 hours, 39 minutes\n",
      "\n",
      "Winter Island is in 0 days, 8.0 hours, 19 minutes\n",
      "\n",
      "Season of Jerry is in 0 days, 8.0 hours, 19 minutes\n",
      "\n",
      "New Year Celebration is in 0 days, 17.0 hours, 39 minutes\n",
      "\n",
      "Old Event is in 2 days, 20.0 hours, 39 minutes\n"
     ]
    }
   ],
   "source": [
    "# Comparing the dates will return\n",
    "# either True or False\n",
    "for event in events:\n",
    "    eventTime = events[event]\n",
    "    print('')\n",
    "    if(eventTime < currentTime):\n",
    "        addedTime = timedelta(days=5,hours=4)\n",
    "        eventTime = eventTime+addedTime\n",
    "        events[event] = eventTime\n",
    "        print(event + ' is out of date, it was fixed')\n",
    "        totalSeconds = eventTime-currentTime\n",
    "        totalDays = totalSeconds.days\n",
    "        totalSeconds = totalSeconds.total_seconds()\n",
    "\n",
    "        remainingSeconds = (totalSeconds%hourToSeconds)\n",
    "        hoursInSeconds = totalSeconds-remainingSeconds\n",
    "        totalHours = (hoursInSeconds)/hourToSeconds\n",
    "        totalHours = totalHours-(totalDays*24)\n",
    "        remainingMinutes = (hoursInSeconds-remainingSeconds)%60\n",
    "        totalMinutes = ((totalSeconds-hoursInSeconds))/60\n",
    "        totalMinutes = math.floor((totalMinutes))\n",
    "        print('Next occurance is in ' + str(totalDays) + ' days, ' + str(totalHours) + ' hours, ' + str(totalMinutes) + ' minutes')\n",
    "\n",
    "\n",
    "    elif(currentTime < eventTime):\n",
    "        totalSeconds = eventTime-currentTime\n",
    "        totalDays = totalSeconds.days\n",
    "        totalSeconds = totalSeconds.total_seconds()\n",
    "\n",
    "        remainingSeconds = (totalSeconds%hourToSeconds)\n",
    "        hoursInSeconds = totalSeconds-remainingSeconds\n",
    "        totalHours = (hoursInSeconds)/hourToSeconds\n",
    "        totalHours = totalHours-(totalDays*24)\n",
    "        remainingMinutes = (hoursInSeconds-remainingSeconds)%60\n",
    "        totalMinutes = ((totalSeconds-hoursInSeconds))/60\n",
    "        totalMinutes = math.floor((totalMinutes))\n",
    "        print(event + ' is in ' + str(totalDays) + ' days, ' + str(totalHours) + ' hours, ' + str(totalMinutes) + ' minutes')\n"
   ],
   "metadata": {
    "collapsed": false,
    "pycharm": {
     "name": "#%%\n"
    }
   }
  }
 ],
 "metadata": {
  "kernelspec": {
   "display_name": "Python 3",
   "language": "python",
   "name": "python3"
  },
  "language_info": {
   "codemirror_mode": {
    "name": "ipython",
    "version": 2
   },
   "file_extension": ".py",
   "mimetype": "text/x-python",
   "name": "python",
   "nbconvert_exporter": "python",
   "pygments_lexer": "ipython2",
   "version": "2.7.6"
  }
 },
 "nbformat": 4,
 "nbformat_minor": 0
}